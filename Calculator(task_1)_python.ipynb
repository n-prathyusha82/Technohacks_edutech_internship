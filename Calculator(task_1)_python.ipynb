{
  "nbformat": 4,
  "nbformat_minor": 0,
  "metadata": {
    "colab": {
      "provenance": [],
      "authorship_tag": "ABX9TyOtEy1luakOsRj9Skk3pozO",
      "include_colab_link": true
    },
    "kernelspec": {
      "name": "python3",
      "display_name": "Python 3"
    },
    "language_info": {
      "name": "python"
    }
  },
  "cells": [
    {
      "cell_type": "markdown",
      "metadata": {
        "id": "view-in-github",
        "colab_type": "text"
      },
      "source": [
        "<a href=\"https://colab.research.google.com/github/n-prathyusha82/Technohacks_edutech_internship/blob/main/Calculator(task_1)_python.ipynb\" target=\"_parent\"><img src=\"https://colab.research.google.com/assets/colab-badge.svg\" alt=\"Open In Colab\"/></a>"
      ]
    },
    {
      "cell_type": "code",
      "source": [
        "def add(x, y):\n",
        "    return x + y\n",
        "\n",
        "def subtract(x, y):\n",
        "    return x - y\n",
        "\n",
        "def multiply(x, y):\n",
        "    return x * y\n",
        "\n",
        "def divide(x, y):\n",
        "    if y == 0:\n",
        "        return \"Cannot divide by zero\"\n",
        "    return x / y\n",
        "\n",
        "def calculator():\n",
        "    print(\"Options:\")\n",
        "    print(\"Enter 'add' for addition\")\n",
        "    print(\"Enter 'subtract' for subtraction\")\n",
        "    print(\"Enter 'multiply' for multiplication\")\n",
        "    print(\"Enter 'divide' for division\")\n",
        "    print(\"Enter 'exit' to end the program\")\n",
        "\n",
        "    while True:\n",
        "        operation = input(\"Enter operation: \")\n",
        "\n",
        "        if operation == \"exit\":\n",
        "            print(\"Exiting the calculator.\")\n",
        "            break\n",
        "\n",
        "        if operation not in (\"add\", \"subtract\", \"multiply\", \"divide\"):\n",
        "            print(\"Invalid operation. Please try again.\")\n",
        "            continue\n",
        "\n",
        "        try:\n",
        "            num1 = float(input(\"Enter first number: \"))\n",
        "            num2 = float(input(\"Enter second number: \"))\n",
        "\n",
        "            if operation == \"add\":\n",
        "                result = add(num1, num2)\n",
        "                print(f\"Result: {result}\")\n",
        "            elif operation == \"subtract\":\n",
        "                result = subtract(num1, num2)\n",
        "                print(f\"Result: {result}\")\n",
        "            elif operation == \"multiply\":\n",
        "                result = multiply(num1, num2)\n",
        "                print(f\"Result: {result}\")\n",
        "            elif operation == \"divide\":\n",
        "                result = divide(num1, num2)\n",
        "                print(f\"Result: {result}\")\n",
        "        except ValueError:\n",
        "            print(\"Invalid input. Please enter valid numbers.\")\n",
        "\n",
        "if __name__ == \"__main__\":\n",
        "    calculator()"
      ],
      "metadata": {
        "colab": {
          "base_uri": "https://localhost:8080/"
        },
        "id": "HycO1iHQKs0u",
        "outputId": "3bc27a86-e6e4-4fc4-8a74-9c647bd2d55b"
      },
      "execution_count": null,
      "outputs": [
        {
          "output_type": "stream",
          "name": "stdout",
          "text": [
            "Options:\n",
            "Enter 'add' for addition\n",
            "Enter 'subtract' for subtraction\n",
            "Enter 'multiply' for multiplication\n",
            "Enter 'divide' for division\n",
            "Enter 'exit' to end the program\n",
            "Enter operation: add\n",
            "Enter first number: 4\n",
            "Enter second number: 7\n",
            "Result: 11.0\n",
            "Enter operation: subtract\n",
            "Enter first number: 5\n",
            "Enter second number: 10\n",
            "Result: -5.0\n",
            "Enter operation: multiply\n",
            "Enter first number: 4\n",
            "Enter second number: 6\n",
            "Result: 24.0\n",
            "Enter operation: divide\n",
            "Enter first number: 3\n",
            "Enter second number: 9\n",
            "Result: 0.3333333333333333\n"
          ]
        }
      ]
    }
  ]
}