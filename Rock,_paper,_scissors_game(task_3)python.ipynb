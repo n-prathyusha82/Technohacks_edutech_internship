{
  "nbformat": 4,
  "nbformat_minor": 0,
  "metadata": {
    "colab": {
      "provenance": [],
      "authorship_tag": "ABX9TyOl0W4pXHf6E4lRtozzVvr4",
      "include_colab_link": true
    },
    "kernelspec": {
      "name": "python3",
      "display_name": "Python 3"
    },
    "language_info": {
      "name": "python"
    }
  },
  "cells": [
    {
      "cell_type": "markdown",
      "metadata": {
        "id": "view-in-github",
        "colab_type": "text"
      },
      "source": [
        "<a href=\"https://colab.research.google.com/github/n-prathyusha82/Technohacks_edutech_internship/blob/main/Rock%2C_paper%2C_scissors_game(task_3)python.ipynb\" target=\"_parent\"><img src=\"https://colab.research.google.com/assets/colab-badge.svg\" alt=\"Open In Colab\"/></a>"
      ]
    },
    {
      "cell_type": "code",
      "execution_count": 1,
      "metadata": {
        "id": "FCnc7s4AQXLr"
      },
      "outputs": [],
      "source": [
        "import random"
      ]
    },
    {
      "cell_type": "code",
      "source": [
        "def get_user_choice():\n",
        "    while True:\n",
        "        user_choice = input(\"Choose rock, paper, or scissors: \").lower()\n",
        "        if user_choice in [\"rock\", \"paper\", \"scissors\"]:\n",
        "            return user_choice\n",
        "        else:\n",
        "            print(\"Invalid choice. Please choose rock, paper, or scissors.\")\n",
        "\n",
        "def get_computer_choice():\n",
        "    choices = [\"rock\", \"paper\", \"scissors\"]\n",
        "    return random.choice(choices)\n",
        "\n",
        "def determine_winner(user_choice, computer_choice):\n",
        "    if user_choice == computer_choice:\n",
        "        return \"It's a tie!\"\n",
        "    elif (user_choice == \"rock\" and computer_choice == \"scissors\") or \\\n",
        "         (user_choice == \"paper\" and computer_choice == \"rock\") or \\\n",
        "         (user_choice == \"scissors\" and computer_choice == \"paper\"):\n",
        "        return \"You win!\"\n",
        "    else:\n",
        "        return \"Computer wins!\"\n",
        "\n",
        "def play_game():\n",
        "    print(\"Welcome to Rock, Paper, Scissors!\")\n",
        "\n",
        "    while True:\n",
        "        user_choice = get_user_choice()\n",
        "        computer_choice = get_computer_choice()\n",
        "\n",
        "        print(f\"You chose {user_choice}.\")\n",
        "        print(f\"Computer chose {computer_choice}.\")\n",
        "\n",
        "        result = determine_winner(user_choice, computer_choice)\n",
        "        print(result)\n",
        "\n",
        "        play_again = input(\"Do you want to play again? (yes/no): \").lower()\n",
        "        if play_again != \"yes\":\n",
        "            print(\"Thank you for playing. Goodbye!\")\n",
        "            break\n",
        "\n",
        "if __name__ == \"__main__\":\n",
        "    play_game()\n"
      ],
      "metadata": {
        "colab": {
          "base_uri": "https://localhost:8080/"
        },
        "id": "dxMvtx2AQiSa",
        "outputId": "ef16fb80-23eb-4425-a5bf-55cf022607ac"
      },
      "execution_count": 2,
      "outputs": [
        {
          "output_type": "stream",
          "name": "stdout",
          "text": [
            "Welcome to Rock, Paper, Scissors!\n",
            "Choose rock, paper, or scissors: paper\n",
            "You chose paper.\n",
            "Computer chose paper.\n",
            "It's a tie!\n",
            "Do you want to play again? (yes/no): yes\n",
            "Choose rock, paper, or scissors: rock\n",
            "You chose rock.\n",
            "Computer chose scissors.\n",
            "You win!\n",
            "Do you want to play again? (yes/no): no\n",
            "Thank you for playing. Goodbye!\n"
          ]
        }
      ]
    }
  ]
}